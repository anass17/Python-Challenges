{
 "cells": [
  {
   "cell_type": "markdown",
   "id": "21dfa672",
   "metadata": {},
   "source": [
    "<center>\n",
    "<H1><span style=\"text-align: center; font-weight: bold; color: #746bb3ff;\">Les Fonctions</span></H1>\n",
    "</center>"
   ]
  },
  {
   "cell_type": "markdown",
   "id": "4280dbf3",
   "metadata": {},
   "source": [
    "<H3><span style=\"font-weight: bold ; color: #19b7f1ff\">Les ressources: </span></H3> \n",
    "\n",
    "\n",
    "* [Python Functions](https://realpython.com/defining-your-own-python-function/#abstraction)\n",
    "* [Documentation Officielle de Python](https://docs.python.org/fr/3/tutorial/controlflow.html#defining-functions)"
   ]
  },
  {
   "cell_type": "markdown",
   "id": "e83d584f",
   "metadata": {},
   "source": [
    "<H3><span style=\"font-weight: bold; color: #1a8bcdff;\">Challenge 1 : Présentation personnalisé</span></H3>\n",
    "\n",
    "1. <span style=\"font-weight: bold; color: #e56922ff;\">Objectif</span> : </br>\n",
    "Réutiliser un programme existant (Challenge 2) en le structurant dans une fonction nommée horaire_sup.\n",
    "\n",
    "2. <span style=\"font-weight: bold; color: #e56922ff;\">Travail à faire</span>:</br>\n",
    "Réécris le programme du Challenge 2 dans une fonction appelée horaire_sup."
   ]
  },
  {
   "cell_type": "code",
   "execution_count": 1,
   "id": "b3439d44",
   "metadata": {},
   "outputs": [
    {
     "name": "stdout",
     "output_type": "stream",
     "text": [
      "Name:\t Anass boutaib\n",
      "Salary:\t 14676.00DH\n"
     ]
    }
   ],
   "source": [
    "#  Écrivez du code Python ici\n",
    "\n",
    "name = input(\"What\\'s your full name? \\t\")\n",
    "salary = float(input(\"what's your hourly salary? \\t\"))\n",
    "work_hours = int(input(\"How many hours have you worked? \\t\"))\n",
    "\n",
    "def horaire_sup(name, salary, work_hours):\n",
    "    if work_hours > 40:\n",
    "        additional_hours = work_hours - 40\n",
    "        total_salary = 40 * salary + additional_hours * 1.5 * salary\n",
    "    else:\n",
    "        total_salary = work_hours * salary\n",
    "        \n",
    "    print(f\"{\"Name:\":s}\\t {name.capitalize()}\\n{\"Salary:\":s}\\t {total_salary:.2f}DH\")\n",
    "\n",
    "horaire_sup(name, salary, work_hours)"
   ]
  },
  {
   "cell_type": "markdown",
   "id": "77631c7d",
   "metadata": {},
   "source": [
    "<H3><span style=\"font-weight: bold; color: #1a8bcdff;\">Challenge 2 : Fonction calculation() – somme et différence</span></H3>\n",
    "\n",
    "1. <span style=\"font-weight: bold; color: #e56922ff;\">Objectif</span> : </br>\n",
    "Apprendre à écrire une fonction avec plusieurs paramètres et plusieurs valeurs de retour.\n",
    "\n",
    "2. <span style=\"font-weight: bold; color: #e56922ff;\">Travail à faire</span>:</br>\n",
    "Écris une fonction calculation() qui prend deux arguments et calcule leur somme ainsi que leur différence. La fonction doit ensuite retourner les deux résultats dans une seule instruction return."
   ]
  },
  {
   "cell_type": "code",
   "execution_count": 11,
   "id": "323a8b4a",
   "metadata": {},
   "outputs": [
    {
     "name": "stdout",
     "output_type": "stream",
     "text": [
      "The sum: 18, the dif: 2\n"
     ]
    }
   ],
   "source": [
    "#  Écrivez du code Python ici\n",
    "\n",
    "def calculation(a, b): \n",
    "\n",
    "    sum = a + b\n",
    "    dif = a - b\n",
    "\n",
    "    return (sum, dif)\n",
    "\n",
    "result = calculation(10, 8)\n",
    "\n",
    "print(f\"The sum: {result[0]}, the dif: {result[1]}\")"
   ]
  },
  {
   "cell_type": "markdown",
   "id": "c2081304",
   "metadata": {},
   "source": [
    "<H3><span style=\"font-weight: bold; color: #1a8bcdff;\">Challenge 3 : Mini-projets algorithmiques regroupés</span></H3>\n",
    "\n",
    "1. <span style=\"font-weight: bold; color: #e56922ff;\">Objectif</span> : </br>\n",
    "Développer plusieurs petites fonctions indépendantes, chacune ciblant une compétence précise\n",
    "\n",
    "2. <span style=\"font-weight: bold; color: #e56922ff;\">Travail à faire</span>:</br>\n",
    "- Demander à l’utilisateur de saisir un nombre entier n et afficher la factorielle de ce nombre (n!).\n",
    "- Demander à l’utilisateur un nombre entier m et afficher sa table de multiplication de 1 à 10.\n",
    "- Demander à l’utilisateur un nombre entier L et indiquer s’il s’agit d’un carré parfait.\n",
    "- Demander une chaîne de caractères à l’utilisateur, puis afficher chaque caractère un par un.\n",
    "- Demander une phrase à l’utilisateur et afficher le mot le plus long de cette phrase.\n",
    "- Demander une chaîne de caractères Ch et afficher le nombre d’occurrences de chaque caractère. Exemple : Pour Ch = “artificial intelligence developer” \n",
    "- Le programme doit afficher : Le caractère \"i\" figure 5 fois dans la chaîne Ch."
   ]
  },
  {
   "cell_type": "code",
   "execution_count": 33,
   "id": "a06adf5c",
   "metadata": {},
   "outputs": [
    {
     "name": "stdout",
     "output_type": "stream",
     "text": [
      "Le caractère 'a' figure 2 fois dans la chaîne\n",
      "Le caractère 'r' figure 2 fois dans la chaîne\n",
      "Le caractère 't' figure 2 fois dans la chaîne\n",
      "Le caractère 'i' figure 5 fois dans la chaîne\n",
      "Le caractère 'f' figure 1 fois dans la chaîne\n",
      "Le caractère 'c' figure 2 fois dans la chaîne\n",
      "Le caractère 'l' figure 4 fois dans la chaîne\n",
      "Le caractère ' ' figure 2 fois dans la chaîne\n",
      "Le caractère 'n' figure 2 fois dans la chaîne\n",
      "Le caractère 'e' figure 6 fois dans la chaîne\n",
      "Le caractère 'g' figure 1 fois dans la chaîne\n",
      "Le caractère 'd' figure 1 fois dans la chaîne\n",
      "Le caractère 'v' figure 1 fois dans la chaîne\n",
      "Le caractère 'o' figure 1 fois dans la chaîne\n",
      "Le caractère 'p' figure 1 fois dans la chaîne\n"
     ]
    }
   ],
   "source": [
    "#  Écrivez du code Python ici\n",
    "\n",
    "import numpy as math\n",
    "\n",
    "def calc_fact():\n",
    "    i = 1\n",
    "    fact = 1\n",
    "    n = int(input(\"Enter a number n:\"))\n",
    "\n",
    "    if n < 2:\n",
    "        print(f\"{n}! = 1\")\n",
    "        return\n",
    "\n",
    "    while i <= n:\n",
    "        fact *= i\n",
    "        i += 1\n",
    "\n",
    "    print(f\"{n}! = {fact}\")\n",
    "\n",
    "def mult_table():\n",
    "    m = int(input(\"Enter a number m:\"))\n",
    "\n",
    "    for i in range(1, 11):\n",
    "        print(f\"{m} * {i} = {m * i}\")\n",
    "\n",
    "\n",
    "def carre_parfait():\n",
    "    L = int(input(\"Enter a number L:\"))\n",
    "\n",
    "    sq = math.sqrt(L)\n",
    "\n",
    "    if (sq.is_integer()): \n",
    "        print(\"Yes, it is\")\n",
    "    else:\n",
    "        print(\"No, it's not\")\n",
    "\n",
    "def string_display():\n",
    "\n",
    "    str = input(\"Enter a string:\\t\")\n",
    "\n",
    "    for char in str:\n",
    "        print(char)\n",
    "\n",
    "def long_word():\n",
    "\n",
    "    sentence = input(\"Enter a sentence:\\t\")\n",
    "\n",
    "    sentence_arr = sentence.split(' ')\n",
    "\n",
    "    long = \"\"\n",
    "\n",
    "    for word in sentence_arr:\n",
    "        if (len(word) > len(long)):\n",
    "            long = word\n",
    "\n",
    "    print(\"The longest word is:\", long)\n",
    "\n",
    "    \n",
    "\n",
    "def nbr_occurence():\n",
    "\n",
    "    sentence = input(\"Enter a sentence:\\t\")\n",
    "\n",
    "    result = dict()\n",
    "\n",
    "    for char in sentence:\n",
    "        if char in result:\n",
    "            result[char] += 1\n",
    "        else :\n",
    "            result[char] = 1\n",
    "\n",
    "    for char, occ in result.items():\n",
    "        print(f\"Le caractère '{char}' figure {occ} fois dans la chaîne\")\n",
    "\n",
    "nbr_occurence()"
   ]
  }
 ],
 "metadata": {
  "kernelspec": {
   "display_name": "Python 3",
   "language": "python",
   "name": "python3"
  },
  "language_info": {
   "codemirror_mode": {
    "name": "ipython",
    "version": 3
   },
   "file_extension": ".py",
   "mimetype": "text/x-python",
   "name": "python",
   "nbconvert_exporter": "python",
   "pygments_lexer": "ipython3",
   "version": "3.13.7"
  }
 },
 "nbformat": 4,
 "nbformat_minor": 5
}
