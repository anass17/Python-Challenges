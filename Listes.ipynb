{
 "cells": [
  {
   "cell_type": "markdown",
   "id": "b44d4791",
   "metadata": {},
   "source": [
    "<center>\n",
    "<H1><span style=\"text-align: center; font-weight: bold; color: #746bb3ff;\">Les Listes</span></H1>\n",
    "</center>"
   ]
  },
  {
   "cell_type": "markdown",
   "id": "b9c93591",
   "metadata": {},
   "source": [
    "<H3><span style=\"font-weight: bold ; color: #19b7f1ff\">Les ressources: </span></H3> \n",
    "\n",
    "* [Python Lists and List Manipulation](https://realpython.com/python-lists-tuples/)\n",
    "* [Documentation Officielle de Python - Structures de données - Listes](https://docs.python.org/fr/3/tutorial/datastructures.html#more-on-lists)\n"
   ]
  },
  {
   "cell_type": "markdown",
   "id": "873352ef",
   "metadata": {},
   "source": [
    "<H3><span style=\"font-weight: bold; color: #1a8bcdff;\">Challenge 1 : La liste des notes </span></H3>\n",
    "\n",
    "<center><code>notes = [12, 4, 14, 11, 18, 13, 7, 10, 5, 9, 15, 8, 14, 16]</code></center>\n",
    "\n",
    "<span style=\"font-weight: bold; color: #e56922ff;\">Travail à faire</span>:</br>\n",
    "Écris un programme en Python qui extrait toutes les notes supérieures à la moyenne et les stocke dans une nouvelle liste."
   ]
  },
  {
   "cell_type": "code",
   "execution_count": null,
   "id": "08a09dc2",
   "metadata": {},
   "outputs": [
    {
     "name": "stdout",
     "output_type": "stream",
     "text": [
      "average: 11.142857142857142\n",
      "notes above the average: [12, 14, 18, 13, 15, 14, 16]\n"
     ]
    }
   ],
   "source": [
    "#  Écrivez du code Python ici\n",
    "\n",
    "def calcul_average(arr):\n",
    "    sum = 0\n",
    "    for item in arr:\n",
    "        sum += item\n",
    "\n",
    "    return sum / len(arr)\n",
    "\n",
    "notes = [12, 4, 14, 11, 18, 13, 7, 10, 5, 9, 15, 8, 14, 16]\n",
    "new = []\n",
    "\n",
    "\n",
    "\n",
    "average = calcul_average(notes)\n",
    "\n",
    "for note in notes:\n",
    "    if note > average:\n",
    "        new.append(note)\n",
    "\n",
    "print(\"Average:\", average)\n",
    "print(\"Notes above the average:\", new)\n"
   ]
  },
  {
   "cell_type": "markdown",
   "id": "87452d02",
   "metadata": {},
   "source": [
    "\n",
    "<H3><span style=\"font-weight: bold; color: #1a8bcdff;\">Challenge 2 : Les mots communs</span></H3>\n",
    "\n",
    "<center><code>\n",
    "Ch1 = \"Le langage Python est très populaire\" <br>\n",
    "Ch2 = \"Python est un langage puissant\"\n",
    "        </code></center>\n",
    "\n",
    "<span style=\"font-weight: bold; color: #e56922ff;\">Travail à faire</span>:</br>\n",
    "Écris un programme en Python qui permet de regrouper dans une liste les mots communs entre deux chaînes de caractères Ch1 et Ch2."
   ]
  },
  {
   "cell_type": "code",
   "execution_count": 7,
   "id": "a640e80e",
   "metadata": {},
   "outputs": [
    {
     "name": "stdout",
     "output_type": "stream",
     "text": [
      "['langage', 'Python', 'est']\n"
     ]
    }
   ],
   "source": [
    "#  Écrivez du code Python ici\n",
    "\n",
    "def find_common_words(Ch1, Ch2):\n",
    "\n",
    "    words = Ch1.split(' ')\n",
    "    common = []\n",
    "\n",
    "    for word in words:\n",
    "        if word in Ch2:\n",
    "            common.append(word)\n",
    "\n",
    "    return common\n",
    "\n",
    "print(find_common_words(\"Le langage Python est très populaire\", \"Python est un langage puissant\"))\n"
   ]
  },
  {
   "cell_type": "markdown",
   "id": "5d74627c",
   "metadata": {},
   "source": [
    "\n",
    "<H3><span style=\"font-weight: bold; color: #1a8bcdff;\">Challenge 3 : Manipulation et tri de listes mixtes</span></H3>\n",
    "\n",
    "<center><code>\n",
    "stock = [\"Stylo\", 25, \"Classeur\", 100, \"Crayon\", 12, \"Surligneur\", 40, \"Feutre\", 5]\n",
    "        </code></center>\n",
    "\n",
    "<span style=\"font-weight: bold; color: #e56922ff;\">Travail à faire</span>:</br>\n",
    " Écris un programme Python qui effectue les opérations suivantes à partir de la liste stock :\n",
    "\n",
    " 1. Afficher la liste initiale.\n",
    "2. Créer deux nouvelles listes :\n",
    "\n",
    "* une contenant uniquement les chaînes de caractères,\n",
    "\n",
    "* l’autre contenant uniquement les valeurs numériques.\n",
    "\n",
    "3. Trier :\n",
    "\n",
    "* la liste des chaînes en ordre croissant (alphabétique),\n",
    "\n",
    "* la liste des nombres en ordre décroissant.\n",
    "\n",
    "4. Afficher les deux listes triées."
   ]
  },
  {
   "cell_type": "code",
   "execution_count": 19,
   "id": "67b9949c",
   "metadata": {},
   "outputs": [
    {
     "name": "stdout",
     "output_type": "stream",
     "text": [
      "['Stylo', 25, 'Classeur', 100, 'Crayon', 12, 'Surligneur', 40, 'Feutre', 5]\n",
      "['Classeur', 'Crayon', 'Feutre', 'Stylo', 'Surligneur']\n",
      "[100, 40, 25, 12, 5]\n"
     ]
    }
   ],
   "source": [
    "#  Écrivez du code Python ici\n",
    "\n",
    "def split_list(arr):\n",
    "    strs = []\n",
    "    nums = []\n",
    "    for item in arr:\n",
    "        if type(item) == str:\n",
    "            strs.append(item)\n",
    "        else:\n",
    "            nums.append(item)\n",
    "\n",
    "    return [strs, nums]\n",
    "\n",
    "def sort_str(arr):\n",
    "    for _ in range(len(arr)):\n",
    "        for i in range(len(arr) - 1):\n",
    "            if (arr[i] > arr[i + 1]):\n",
    "                temp = arr[i]\n",
    "                arr[i] = arr[i + 1]\n",
    "                arr[i + 1] = temp\n",
    "    return arr\n",
    "\n",
    "def sort_num(arr):\n",
    "    for _ in range(len(arr)):\n",
    "        for i in range(len(arr) - 1):\n",
    "            if (arr[i] < arr[i + 1]):\n",
    "                temp = arr[i]\n",
    "                arr[i] = arr[i + 1]\n",
    "                arr[i + 1] = temp\n",
    "    return arr\n",
    "\n",
    "\n",
    "\n",
    "def manipulate_list(arr):\n",
    "    print(arr)\n",
    "\n",
    "    strings, numbers = split_list(arr)\n",
    "\n",
    "    print(sort_str(strings))\n",
    "    print(sort_num(numbers))\n",
    "\n",
    "\n",
    "stock = [\"Stylo\", 25, \"Classeur\", 100, \"Crayon\", 12, \"Surligneur\", 40, \"Feutre\", 5]\n",
    "\n",
    "manipulate_list(stock)\n",
    "\n",
    "    "
   ]
  },
  {
   "cell_type": "markdown",
   "id": "fe0eccef",
   "metadata": {},
   "source": [
    "\n",
    "<H3><span style=\"font-weight: bold; color: #1a8bcdff;\">Challenge 4 : Recherche d’un élément dans une liste </span></H3>\n",
    "\n",
    "<center><code>Fruits = [\"pomme\", \"banane\", \"orange\", \"kiwi\", \"mangue\"]</code></center>\n",
    "\n",
    "<span style=\"font-weight: bold; color: #e56922ff;\">Travail à faire</span>:</br>\n",
    "Créer une fonction « rechercheElement » qui a pour paramètres un élément et une liste et qui renvoie False si l’élément n’est pas dans la liste, ou l’indice de l’élément dans le cas contraire."
   ]
  },
  {
   "cell_type": "code",
   "execution_count": 24,
   "id": "b6d66015",
   "metadata": {},
   "outputs": [
    {
     "data": {
      "text/plain": [
       "3"
      ]
     },
     "execution_count": 24,
     "metadata": {},
     "output_type": "execute_result"
    }
   ],
   "source": [
    "#  Écrivez du code Python ici\n",
    "\n",
    "def find_element(element, arr):\n",
    "    for index in range(len(arr)):\n",
    "        if element == arr[index]:\n",
    "            return index\n",
    "    \n",
    "    return False\n",
    "\n",
    "Fruits = [\"pomme\", \"banane\", \"orange\", \"kiwi\", \"mangue\"]\n",
    "\n",
    "find_element(\"kiwi\", Fruits)"
   ]
  },
  {
   "cell_type": "markdown",
   "id": "ce9ba959",
   "metadata": {},
   "source": [
    "<H3><span style=\"font-weight: bold; color: #1a8bcdff;\">Challenge 5 : Nombre d'occurrences </span></H3>\n",
    "\n",
    "<center><code>L = [7 , 23 , 5 , 23 , 7 , 19 , 23 , 12 , 29]</code></center>\n",
    "\n",
    "<span style=\"font-weight: bold; color: #e56922ff;\">Travail à faire</span>:</br>\n",
    "Écrire un algorithme en python qui renvoie le nombre d'occurrences d'un élément a dans une liste L donnée sans utiliser aucune fonction prédéfinie en Python."
   ]
  },
  {
   "cell_type": "code",
   "execution_count": null,
   "id": "fb150eca",
   "metadata": {},
   "outputs": [],
   "source": [
    "#  Écrivez du code Python ici\n"
   ]
  },
  {
   "cell_type": "markdown",
   "id": "e8fb0d93",
   "metadata": {},
   "source": []
  }
 ],
 "metadata": {
  "kernelspec": {
   "display_name": "Python 3",
   "language": "python",
   "name": "python3"
  },
  "language_info": {
   "codemirror_mode": {
    "name": "ipython",
    "version": 3
   },
   "file_extension": ".py",
   "mimetype": "text/x-python",
   "name": "python",
   "nbconvert_exporter": "python",
   "pygments_lexer": "ipython3",
   "version": "3.13.7"
  }
 },
 "nbformat": 4,
 "nbformat_minor": 5
}
